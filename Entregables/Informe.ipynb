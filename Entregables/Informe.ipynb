{
 "cells": [
  {
   "cell_type": "markdown",
   "metadata": {},
   "source": [
    "# Trabajo Práctico Final - Electrónica Aplicada 2\n",
    "### UTN - Facultad Regional de Avellaneda"
   ]
  },
  {
   "cell_type": "markdown",
   "metadata": {},
   "source": [
    "### Enunciado"
   ]
  },
  {
   "cell_type": "markdown",
   "metadata": {},
   "source": [
    "Oscilador con par diferencial de frecuencia variable, frecuencia central 12 MHz, tensión de salida 1 volt pico, apto para cargar con 50 ohm, una vez cumplido agregar ajuste de amplitud. O control aut de amplitud."
   ]
  },
  {
   "cell_type": "code",
   "execution_count": 23,
   "metadata": {},
   "outputs": [],
   "source": [
    "# Herramientas útiles\n",
    "import math\n",
    "from engineering_notation import EngNumber\n",
    "\n",
    "# Datos\n",
    "\n",
    "f_0 = 12*10**6\n",
    "RL = 50\n",
    "a = 2\n",
    "b = 5\n",
    "Q_0 = 100\n",
    "pi = math.pi"
   ]
  },
  {
   "cell_type": "markdown",
   "metadata": {},
   "source": [
    "Para comenzar, se asume una bobina de 300nHy:"
   ]
  },
  {
   "cell_type": "code",
   "execution_count": 22,
   "metadata": {},
   "outputs": [
    {
     "name": "stdout",
     "output_type": "stream",
     "text": [
      "300n\n"
     ]
    }
   ],
   "source": [
    "L = 300*(10**-9)\n",
    "L_eng = EngNumber(L)\n",
    "\n",
    "print(L_eng)"
   ]
  },
  {
   "cell_type": "markdown",
   "metadata": {},
   "source": [
    "Con esta bobina, se calcula la capacidad equivalente para que el circuito resuene en 12MHz\n",
    "\n",
    "$ C(eq) = \\frac{1}{(2 \\pi f_0)^{2} L} $"
   ]
  },
  {
   "cell_type": "code",
   "execution_count": 31,
   "metadata": {},
   "outputs": [
    {
     "name": "stdout",
     "output_type": "stream",
     "text": [
      "Ceq: 586.35p\n"
     ]
    }
   ],
   "source": [
    "C_eq = 1/((2 * pi * f_0)**2 * L)\n",
    "\n",
    "C_eq_eng = EngNumber(C_eq)\n",
    "\n",
    "print(\"Ceq: \" + str(C_eq_eng))"
   ]
  },
  {
   "cell_type": "markdown",
   "metadata": {},
   "source": [
    "A partir de este punto, se comienza a calcular el capacitor C4, de forma de cumplir el enunciado y poder cargar con 50ohm a la salida. Para ello, se define que XC4 debe ser aproximadamente 10 veces menor a RL y se asume:"
   ]
  },
  {
   "cell_type": "code",
   "execution_count": 27,
   "metadata": {},
   "outputs": [],
   "source": [
    "X_C4 = 5"
   ]
  },
  {
   "cell_type": "markdown",
   "metadata": {},
   "source": [
    "Aquí se podrá calcular C4 y luego C3. Se define que b=5.\n",
    "\n",
    "$ C_4 = \\frac{1}{2 \\pi f_0 X_{C4}} $\n",
    "\n",
    "$ C_3 = \\frac{C_4}{b-1} $"
   ]
  },
  {
   "cell_type": "code",
   "execution_count": 29,
   "metadata": {},
   "outputs": [
    {
     "name": "stdout",
     "output_type": "stream",
     "text": [
      "C4: 2.65n\n",
      "C3: 663.15p\n"
     ]
    }
   ],
   "source": [
    "C_4 = 1/(2*pi*f_0*X_C4)\n",
    "C_4_eng = EngNumber(C_4)\n",
    "\n",
    "C_3 = C_4 / (b - 1)\n",
    "C_3_eng = EngNumber(C_3)\n",
    "\n",
    "print(\"C4: \" + str(C_4_eng))\n",
    "print(\"C3: \" + str(C_3_eng))"
   ]
  }
 ],
 "metadata": {
  "kernelspec": {
   "display_name": "Python 3",
   "language": "python",
   "name": "python3"
  },
  "language_info": {
   "codemirror_mode": {
    "name": "ipython",
    "version": 3
   },
   "file_extension": ".py",
   "mimetype": "text/x-python",
   "name": "python",
   "nbconvert_exporter": "python",
   "pygments_lexer": "ipython3",
   "version": "3.11.9"
  }
 },
 "nbformat": 4,
 "nbformat_minor": 2
}
