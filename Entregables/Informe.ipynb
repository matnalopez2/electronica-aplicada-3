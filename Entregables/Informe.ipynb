{
 "cells": [
  {
   "cell_type": "markdown",
   "metadata": {},
   "source": [
    "# Trabajo Práctico Final - Electrónica Aplicada 2\n",
    "### UTN - Facultad Regional de Avellaneda"
   ]
  },
  {
   "cell_type": "markdown",
   "metadata": {},
   "source": [
    "### Enunciado"
   ]
  },
  {
   "cell_type": "markdown",
   "metadata": {},
   "source": [
    "Oscilador con par diferencial de frecuencia variable, frecuencia central 12 MHz, tensión de salida 1 volt pico, apto para cargar con 50 ohm, una vez cumplido agregar ajuste de amplitud. O control aut de amplitud."
   ]
  },
  {
   "cell_type": "code",
   "execution_count": 2,
   "metadata": {},
   "outputs": [],
   "source": [
    "# Herramientas útiles\n",
    "import math\n",
    "from engineering_notation import EngNumber\n",
    "\n",
    "# El símbolo de ohm en Unicode\n",
    "ohm_symbol = \"\\u03A9\"\n",
    "\n",
    "# Datos\n",
    "f_0 = 12*10**6\n",
    "R_L = 50\n",
    "a = 2\n",
    "b = 5\n",
    "Q_0 = 100\n",
    "pi = math.pi"
   ]
  },
  {
   "cell_type": "markdown",
   "metadata": {},
   "source": [
    "Para comenzar, se asume una bobina de 300nHy:"
   ]
  },
  {
   "cell_type": "code",
   "execution_count": 4,
   "metadata": {},
   "outputs": [
    {
     "name": "stdout",
     "output_type": "stream",
     "text": [
      "\n",
      "L = 300nHy\n"
     ]
    }
   ],
   "source": [
    "L = 300*(10**-9)\n",
    "L_eng = EngNumber(L)\n",
    "\n",
    "print()\n",
    "print(\"L = \" + str(L_eng) + \"Hy\")"
   ]
  },
  {
   "cell_type": "markdown",
   "metadata": {},
   "source": [
    "Con esta bobina, se calcula la capacidad equivalente para que el circuito resuene en 12MHz\n",
    "\n",
    "$ C(eq) = \\frac{1}{(2 \\pi f_0)^{2} L} $"
   ]
  },
  {
   "cell_type": "code",
   "execution_count": 5,
   "metadata": {},
   "outputs": [
    {
     "name": "stdout",
     "output_type": "stream",
     "text": [
      "Ceq = 586.35pF\n"
     ]
    }
   ],
   "source": [
    "C_eq = 1/((2 * pi * f_0)**2 * L)\n",
    "\n",
    "C_eq_eng = EngNumber(C_eq)\n",
    "\n",
    "print(\"Ceq = \" + str(C_eq_eng) + \"F\")"
   ]
  },
  {
   "cell_type": "markdown",
   "metadata": {},
   "source": [
    "A partir de este punto, se comienza a calcular el capacitor C4, de forma de cumplir el enunciado y poder cargar con 50ohm a la salida. Para ello, se define que $X_{C4}$ debe ser aproximadamente 10 veces menor a $R_L$ y se asume:"
   ]
  },
  {
   "cell_type": "code",
   "execution_count": 7,
   "metadata": {},
   "outputs": [],
   "source": [
    "X_C4 = 5"
   ]
  },
  {
   "cell_type": "markdown",
   "metadata": {},
   "source": [
    "Aquí se podrá calcular $C_4$ y luego $C_3$.\n",
    "\n",
    "$$ C_4 = \\frac{1}{2 \\pi f_0 X_{C4}} $$\n",
    "\n",
    "$$ C_3 = \\frac{C_4}{b-1} $$"
   ]
  },
  {
   "cell_type": "code",
   "execution_count": 8,
   "metadata": {},
   "outputs": [
    {
     "name": "stdout",
     "output_type": "stream",
     "text": [
      "C4: 2.65nF\n",
      "C3: 663.15pF\n"
     ]
    }
   ],
   "source": [
    "C_4 = 1/(2*pi*f_0*X_C4)\n",
    "C_4_eng = EngNumber(C_4)\n",
    "\n",
    "C_3 = C_4 / (b - 1)\n",
    "C_3_eng = EngNumber(C_3)\n",
    "\n",
    "print(\"C4: \" + str(C_4_eng) + \"F\")\n",
    "print(\"C3: \" + str(C_3_eng) + \"F\")"
   ]
  },
  {
   "cell_type": "markdown",
   "metadata": {},
   "source": [
    "Por último, se obtiene la capacidad equivalente del divisor capacitivo de la salida:\n",
    "\n",
    "$$ C_{eq_2} = \\frac{C_3 C_4}{C_3 + C_4} $$"
   ]
  },
  {
   "cell_type": "code",
   "execution_count": 9,
   "metadata": {},
   "outputs": [
    {
     "name": "stdout",
     "output_type": "stream",
     "text": [
      "C_eq_2: 530.52pF\n"
     ]
    }
   ],
   "source": [
    "C_eq_2 = (C_3 * C_4)/(C_3 + C_4)\n",
    "C_eq_2_eng = EngNumber(C_eq_2)\n",
    "\n",
    "print(\"C_eq_2: \" + str(C_eq_2_eng) + \"F\")"
   ]
  },
  {
   "cell_type": "markdown",
   "metadata": {},
   "source": [
    "Se continúa calculando la capacidad equivalente de los capacitores $C_1$ y $C_2$. Hasta aquí no se considera Cvariable en el diseño del oscilador.\n",
    "\n",
    "$$ C_{eq_1} = C_{eq} - C_{eq_2} $$\n",
    "\n",
    "$$ C_2 = a  C_{eq_1} $$\n",
    "\n",
    "$$ C_1 = \\frac{C_2}{a - 1} $$"
   ]
  },
  {
   "cell_type": "code",
   "execution_count": 12,
   "metadata": {},
   "outputs": [
    {
     "name": "stdout",
     "output_type": "stream",
     "text": [
      "C_eq_1: 55.83pF\n",
      "C_2: 111.67pF\n",
      "C_1: 111.67pF\n"
     ]
    }
   ],
   "source": [
    "C_eq_1 = C_eq - C_eq_2\n",
    "C_eq_1_eng = EngNumber(C_eq_1)\n",
    "\n",
    "\n",
    "\n",
    "C_2 = a * C_eq_1\n",
    "C_2_eng = EngNumber(C_2)\n",
    "\n",
    "\n",
    "C_1 = C_2 / (a-1)\n",
    "C_1_eng = EngNumber(C_1)\n",
    "\n",
    "\n",
    "print(\"C_eq_1: \"  + str(C_eq_1_eng) + \"F\")\n",
    "print(\"C_2: \"     + str(C_2_eng) + \"F\")\n",
    "print(\"C_1: \"     + str(C_1_eng) + \"F\")"
   ]
  },
  {
   "cell_type": "markdown",
   "metadata": {},
   "source": [
    "Como se trabaja con una bobina ideal, se procede a calcular su $R_T$ y también la resistencia $R_L$ reflejada, para obtener la Rtotal siendo el paralelo entre ambas:\n",
    "\n",
    "$$ R_T = Q_0 2 \\pi f_0 L $$\n",
    "\n",
    "$$ R'_L = R_L  b^{2} $$\n",
    "\n",
    "$$ R_{TOTAL} = \\frac{R_T R'_L}{R_T + R'_L} $$"
   ]
  },
  {
   "cell_type": "code",
   "execution_count": 14,
   "metadata": {},
   "outputs": [
    {
     "name": "stdout",
     "output_type": "stream",
     "text": [
      "R_T: 2.26kΩ\n",
      "R_L_PRIMA: 1.25kΩ\n",
      "R_TOTAL: 805.09Ω\n"
     ]
    }
   ],
   "source": [
    "R_T = Q_0 * 2 * pi * f_0 * L\n",
    "R_T_eng = EngNumber(R_T)\n",
    "\n",
    "R_L_PRIMA = R_L * b**2\n",
    "R_L_PRIMA_eng = EngNumber(R_L_PRIMA)\n",
    "\n",
    "R_TOTAL = (R_T * R_L_PRIMA)/(R_T + R_L_PRIMA)\n",
    "R_TOTAL_eng = EngNumber(R_TOTAL)\n",
    "\n",
    "\n",
    "print(\"R_T: \"           + str(R_T_eng) + ohm_symbol)\n",
    "print(\"R_L_PRIMA: \"     + str(R_L_PRIMA_eng) + ohm_symbol)\n",
    "print(\"R_TOTAL: \"       + str(R_TOTAL_eng) + ohm_symbol)"
   ]
  }
 ],
 "metadata": {
  "kernelspec": {
   "display_name": "Python 3",
   "language": "python",
   "name": "python3"
  },
  "language_info": {
   "codemirror_mode": {
    "name": "ipython",
    "version": 3
   },
   "file_extension": ".py",
   "mimetype": "text/x-python",
   "name": "python",
   "nbconvert_exporter": "python",
   "pygments_lexer": "ipython3",
   "version": "3.11.9"
  }
 },
 "nbformat": 4,
 "nbformat_minor": 2
}
